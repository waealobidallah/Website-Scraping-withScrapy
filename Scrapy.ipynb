{
 "cells": [
  {
   "cell_type": "code",
   "execution_count": 1,
   "metadata": {},
   "outputs": [
    {
     "name": "stdout",
     "output_type": "stream",
     "text": [
      "Collecting scrapy\n",
      "  Downloading Scrapy-1.8.0-py2.py3-none-any.whl (238 kB)\n",
      "Collecting cssselect>=0.9.1\n",
      "  Downloading cssselect-1.1.0-py2.py3-none-any.whl (16 kB)\n",
      "Collecting PyDispatcher>=2.0.5\n",
      "  Downloading PyDispatcher-2.0.5.tar.gz (34 kB)\n",
      "Collecting service-identity>=16.0.0\n",
      "  Downloading service_identity-18.1.0-py2.py3-none-any.whl (11 kB)\n",
      "Collecting pyOpenSSL>=16.2.0\n",
      "  Downloading pyOpenSSL-19.1.0-py2.py3-none-any.whl (53 kB)\n",
      "Requirement already satisfied: six>=1.10.0 in c:\\users\\waeal\\appdata\\local\\programs\\python\\python37\\lib\\site-packages (from scrapy) (1.13.0)\n",
      "Collecting w3lib>=1.17.0\n",
      "  Downloading w3lib-1.21.0-py2.py3-none-any.whl (20 kB)\n",
      "Collecting cryptography>=2.0\n",
      "  Downloading cryptography-2.8-cp37-cp37m-win_amd64.whl (1.5 MB)\n",
      "Collecting queuelib>=1.4.2\n",
      "  Downloading queuelib-1.5.0-py2.py3-none-any.whl (13 kB)\n",
      "Collecting protego>=0.1.15\n",
      "  Downloading Protego-0.1.16.tar.gz (3.2 MB)\n",
      "Collecting zope.interface>=4.1.3\n",
      "  Downloading zope.interface-4.7.1-cp37-cp37m-win_amd64.whl (134 kB)\n",
      "Collecting parsel>=1.5.0\n",
      "  Downloading parsel-1.5.2-py2.py3-none-any.whl (12 kB)\n",
      "Collecting Twisted>=17.9.0; python_version >= \"3.5\"\n",
      "  Downloading Twisted-19.10.0-cp37-cp37m-win_amd64.whl (3.1 MB)\n",
      "Requirement already satisfied: lxml>=3.5.0 in c:\\users\\waeal\\appdata\\local\\programs\\python\\python37\\lib\\site-packages (from scrapy) (4.4.2)\n",
      "Collecting pyasn1-modules\n",
      "  Downloading pyasn1_modules-0.2.8-py2.py3-none-any.whl (155 kB)\n",
      "Requirement already satisfied: attrs>=16.0.0 in c:\\users\\waeal\\appdata\\local\\programs\\python\\python37\\lib\\site-packages (from service-identity>=16.0.0->scrapy) (19.3.0)\n",
      "Collecting pyasn1\n",
      "  Downloading pyasn1-0.4.8-py2.py3-none-any.whl (77 kB)\n",
      "Collecting cffi!=1.11.3,>=1.8\n",
      "  Downloading cffi-1.14.0-cp37-cp37m-win_amd64.whl (176 kB)\n",
      "Requirement already satisfied: setuptools in c:\\users\\waeal\\appdata\\local\\programs\\python\\python37\\lib\\site-packages (from zope.interface>=4.1.3->scrapy) (41.2.0)\n",
      "Collecting PyHamcrest>=1.9.0\n",
      "  Downloading PyHamcrest-2.0.0-py3-none-any.whl (51 kB)\n",
      "Collecting Automat>=0.3.0\n",
      "  Downloading Automat-0.8.0-py2.py3-none-any.whl (31 kB)\n",
      "Collecting constantly>=15.1\n",
      "  Downloading constantly-15.1.0-py2.py3-none-any.whl (7.9 kB)\n",
      "Collecting hyperlink>=17.1.1\n",
      "  Downloading hyperlink-19.0.0-py2.py3-none-any.whl (38 kB)\n",
      "Collecting incremental>=16.10.1\n",
      "  Downloading incremental-17.5.0-py2.py3-none-any.whl (16 kB)\n",
      "Collecting pycparser\n",
      "  Downloading pycparser-2.19.tar.gz (158 kB)\n",
      "Requirement already satisfied: idna>=2.5 in c:\\users\\waeal\\appdata\\local\\programs\\python\\python37\\lib\\site-packages (from hyperlink>=17.1.1->Twisted>=17.9.0; python_version >= \"3.5\"->scrapy) (2.8)\n",
      "Installing collected packages: cssselect, PyDispatcher, pyasn1, pyasn1-modules, pycparser, cffi, cryptography, service-identity, pyOpenSSL, w3lib, queuelib, protego, zope.interface, parsel, PyHamcrest, Automat, constantly, hyperlink, incremental, Twisted, scrapy\n",
      "    Running setup.py install for PyDispatcher: started\n",
      "    Running setup.py install for PyDispatcher: finished with status 'done'\n",
      "    Running setup.py install for pycparser: started\n",
      "    Running setup.py install for pycparser: finished with status 'done'\n",
      "    Running setup.py install for protego: started\n",
      "    Running setup.py install for protego: finished with status 'done'\n",
      "Successfully installed Automat-0.8.0 PyDispatcher-2.0.5 PyHamcrest-2.0.0 Twisted-19.10.0 cffi-1.14.0 constantly-15.1.0 cryptography-2.8 cssselect-1.1.0 hyperlink-19.0.0 incremental-17.5.0 parsel-1.5.2 protego-0.1.16 pyOpenSSL-19.1.0 pyasn1-0.4.8 pyasn1-modules-0.2.8 pycparser-2.19 queuelib-1.5.0 scrapy-1.8.0 service-identity-18.1.0 w3lib-1.21.0 zope.interface-4.7.1\n"
     ]
    }
   ],
   "source": [
    "#! pip install scrapy"
   ]
  },
  {
   "cell_type": "code",
   "execution_count": 2,
   "metadata": {},
   "outputs": [],
   "source": [
    "from scrapy import Selector"
   ]
  },
  {
   "cell_type": "code",
   "execution_count": 5,
   "metadata": {},
   "outputs": [],
   "source": [
    "html ='''\n",
    "<html>\n",
    "    <body>\n",
    "        <div class=\"hello datacamp\">\n",
    "        <p>Hello World!</p>\n",
    "        </div>\n",
    "        <p>Enjoy DataCamp!</p>\n",
    "    </body>\n",
    "</html>\n",
    "'''\n"
   ]
  },
  {
   "cell_type": "code",
   "execution_count": 6,
   "metadata": {},
   "outputs": [],
   "source": [
    "sel= Selector(text=html)"
   ]
  },
  {
   "cell_type": "code",
   "execution_count": 7,
   "metadata": {},
   "outputs": [
    {
     "data": {
      "text/plain": [
       "[<Selector xpath='//p' data='<p>Hello World!</p>'>,\n",
       " <Selector xpath='//p' data='<p>Enjoy DataCamp!</p>'>]"
      ]
     },
     "execution_count": 7,
     "metadata": {},
     "output_type": "execute_result"
    }
   ],
   "source": [
    "sel.xpath(\"//p\")"
   ]
  },
  {
   "cell_type": "markdown",
   "metadata": {},
   "source": [
    "Selector and SelectorList objects allow for chaining when using the xpath method . below are the same  21 & 22"
   ]
  },
  {
   "cell_type": "code",
   "execution_count": 21,
   "metadata": {},
   "outputs": [
    {
     "data": {
      "text/plain": [
       "[<Selector xpath='/html/body/div[1]' data='<div class=\"hello datacamp\">\\n        ...'>]"
      ]
     },
     "execution_count": 21,
     "metadata": {},
     "output_type": "execute_result"
    }
   ],
   "source": [
    "sel.xpath('/html/body/div[1]')"
   ]
  },
  {
   "cell_type": "code",
   "execution_count": 22,
   "metadata": {},
   "outputs": [
    {
     "data": {
      "text/plain": [
       "[<Selector xpath='./body/div[1]' data='<div class=\"hello datacamp\">\\n        ...'>]"
      ]
     },
     "execution_count": 22,
     "metadata": {},
     "output_type": "execute_result"
    }
   ],
   "source": [
    "sel.xpath('/html').xpath('./body/div[1]')"
   ]
  },
  {
   "cell_type": "code",
   "execution_count": 9,
   "metadata": {},
   "outputs": [
    {
     "data": {
      "text/plain": [
       "[<Selector xpath='//*' data='<html>\\n    <body>\\n        <div class=...'>,\n",
       " <Selector xpath='//*' data='<body>\\n        <div class=\"hello data...'>,\n",
       " <Selector xpath='//*' data='<div class=\"hello datacamp\">\\n        ...'>,\n",
       " <Selector xpath='//*' data='<p>Hello World!</p>'>,\n",
       " <Selector xpath='//*' data='<p>Enjoy DataCamp!</p>'>]"
      ]
     },
     "execution_count": 9,
     "metadata": {},
     "output_type": "execute_result"
    }
   ],
   "source": [
    "sel.xpath(\"//*\")"
   ]
  },
  {
   "cell_type": "code",
   "execution_count": 19,
   "metadata": {},
   "outputs": [
    {
     "data": {
      "text/plain": [
       "[<Selector xpath='//*[contains(@class,\"hello datacamp\")]/p' data='<p>Hello World!</p>'>]"
      ]
     },
     "execution_count": 19,
     "metadata": {},
     "output_type": "execute_result"
    }
   ],
   "source": [
    "sel.xpath('//*[contains(@class,\"hello datacamp\")]/p')"
   ]
  },
  {
   "cell_type": "code",
   "execution_count": 11,
   "metadata": {},
   "outputs": [],
   "source": [
    "listext=sel.xpath(\"//p\")[1]"
   ]
  },
  {
   "cell_type": "code",
   "execution_count": 14,
   "metadata": {},
   "outputs": [
    {
     "data": {
      "text/plain": [
       "'<p>Enjoy DataCamp!</p>'"
      ]
     },
     "execution_count": 14,
     "metadata": {},
     "output_type": "execute_result"
    }
   ],
   "source": [
    "listext.extract()"
   ]
  },
  {
   "cell_type": "code",
   "execution_count": 16,
   "metadata": {},
   "outputs": [
    {
     "data": {
      "text/plain": [
       "'<p>Hello World!</p>'"
      ]
     },
     "execution_count": 16,
     "metadata": {},
     "output_type": "execute_result"
    }
   ],
   "source": [
    "sel.xpath(\"//p\").extract_first()"
   ]
  },
  {
   "cell_type": "code",
   "execution_count": 23,
   "metadata": {},
   "outputs": [],
   "source": [
    "div=Selector(text=html)"
   ]
  },
  {
   "cell_type": "code",
   "execution_count": 34,
   "metadata": {},
   "outputs": [
    {
     "data": {
      "text/plain": [
       "['<div class=\"hello datacamp\">\\n        <p>Hello World!</p>\\n        </div>']"
      ]
     },
     "execution_count": 34,
     "metadata": {},
     "output_type": "execute_result"
    }
   ],
   "source": [
    "div.xpath(\"//div\").extract()"
   ]
  },
  {
   "cell_type": "code",
   "execution_count": null,
   "metadata": {},
   "outputs": [],
   "source": []
  }
 ],
 "metadata": {
  "kernelspec": {
   "display_name": "Python 3",
   "language": "python",
   "name": "python3"
  },
  "language_info": {
   "codemirror_mode": {
    "name": "ipython",
    "version": 3
   },
   "file_extension": ".py",
   "mimetype": "text/x-python",
   "name": "python",
   "nbconvert_exporter": "python",
   "pygments_lexer": "ipython3",
   "version": "3.7.6"
  }
 },
 "nbformat": 4,
 "nbformat_minor": 4
}
